{
 "cells": [
  {
   "cell_type": "markdown",
   "id": "64024cef-687f-4698-b78f-fbec3fb3103b",
   "metadata": {},
   "source": [
    "**Exercise 2 - Create a markdown cell with the title of the notebook.**"
   ]
  },
  {
   "cell_type": "markdown",
   "id": "c3e3cbaa-92cf-458a-a7a3-767aaf6e2174",
   "metadata": {},
   "source": [
    "<h1> Data Science for Beginner</h1>"
   ]
  },
  {
   "cell_type": "markdown",
   "id": "6a60090e-fb73-426f-8f43-3b23b4617058",
   "metadata": {},
   "source": [
    "**Exercise 3 - Create a markdown cell for an introduction**"
   ]
  },
  {
   "cell_type": "markdown",
   "id": "bab2e738-3857-4c6c-b597-29aeba469b80",
   "metadata": {
    "tags": []
   },
   "source": [
    "<h3>What is Data Science?</h3>\n",
    "\n",
    "Data science is an interdisciplinary field that combines elements from statistics, mathematics, computer science, and domain knowledge to extract knowledge and meaning from data. It involves collecting, organizing, analyzing, and interpreting data to uncover patterns, trends, and relationships that can lead to valuable discoveries."
   ]
  },
  {
   "cell_type": "markdown",
   "id": "4462d4a6-a207-4ac0-b5e6-3f71db87184d",
   "metadata": {
    "tags": []
   },
   "source": [
    "**Exercise 4 - Create a markdown cell to list data science languages.**"
   ]
  },
  {
   "cell_type": "markdown",
   "id": "377205cd-7be6-45be-b23d-cd2972b6ca57",
   "metadata": {
    "tags": []
   },
   "source": [
    "<h3>1. Python</h3>\n",
    "   - Python is one of the most popular and versatile languages in data science. It has a wide range of libraries and frameworks, such as NumPy, Pandas, Matplotlib, and Scikit-learn, making it ideal for data manipulation, analysis, and machine learning.\n",
    "\n",
    "<h3>2. R</h3>\n",
    "   - R is another powerful language specifically designed for statistical computing and data visualization. It has an extensive ecosystem of packages like ggplot2 and dplyr that cater to various data analysis needs.\n",
    "\n",
    "<h3>3. SQL</h3>\n",
    "   - Structured Query Language (SQL) is essential for working with relational databases. Data scientists often use SQL to query and manipulate data stored in databases.\n",
    "\n",
    "<h3>4. Julia</h3>\n",
    "   - Julia is a high-level, high-performance language that has gained popularity in the data science community due to its speed and ease of use in numerical and scientific computing.\n",
    "\n",
    "<h3>5. Scala</h3>\n",
    "   - Scala is often used in combination with Apache Spark, a popular big data processing framework, making it valuable for large-scale data processing and analytics.\n",
    "\n",
    "\n",
    "These are just a few of the many languages used in data science. The choice of language often depends on the specific tasks and preferences of the data scientist or analyst.\n"
   ]
  },
  {
   "cell_type": "markdown",
   "id": "5c7df931-e553-48e1-8933-6a7881270e95",
   "metadata": {
    "tags": []
   },
   "source": [
    "**Exercise 5 - Create a markdown cell to list data science libraries.**"
   ]
  },
  {
   "cell_type": "markdown",
   "id": "090fab90-58b1-4208-902b-514bffa246b1",
   "metadata": {
    "tags": []
   },
   "source": [
    "### Data Science Libraries\n",
    "\n",
    "#### Python:\n",
    "\n",
    "1. NumPy\n",
    "   - A fundamental library for numerical computing in Python, providing support for large, multi-dimensional arrays and matrices.\n",
    "\n",
    "2. Pandas\n",
    "   - Offers powerful data structures and tools for data manipulation and analysis, making it easier to work with structured data.\n",
    "\n",
    "3. Matplotlib\n",
    "   - A widely-used plotting library in Python for creating static, interactive, and publication-quality visualizations.\n",
    "\n",
    "4. Seaborn\n",
    "   - Built on top of Matplotlib, Seaborn provides high-level interface functions for statistical visualizations.\n",
    "\n",
    "5. Scikit-learn\n",
    "   - A comprehensive machine learning library with various algorithms for classification, regression, clustering, and more."
   ]
  },
  {
   "cell_type": "markdown",
   "id": "62cc08d5-e3e5-4bd2-99d1-0dd1c37d6950",
   "metadata": {
    "tags": []
   },
   "source": [
    "**Exercise 6 - Create a markdown cell with a table of Data Science tools.**"
   ]
  },
  {
   "cell_type": "markdown",
   "id": "60519edc-56e7-43e7-bf68-e34be3382df9",
   "metadata": {},
   "source": [
    "Sure! Below is a markdown cell with a table listing some essential data science tools:\n",
    "\n",
    "| Tools                  | Description                                                         |\n",
    "|------------------------|---------------------------------------------------------------------|\n",
    "| Jupyter Notebook/Lab   | Interactive computing environments for data exploration and analysis|\n",
    "| Python and R           | Widely used programming languages for data manipulation and analysis|\n",
    "| SQL                    | Query language for working with relational databases                |\n",
    "| Excel                  | General-purpose tool for basic data analysis and visualization      |\n",
    "| Tableau                | Data visualization tool for creating interactive dashboards         |\n",
    "| Power BI               | Business intelligence tool for data visualization and analysis      |\n",
    "| Apache Spark           | Distributed computing engine for processing big data                 |\n",
    "| Hadoop                 | Framework for distributed storage and processing of big data         |\n",
    "| TensorBoard            | Visualization tool for monitoring and analyzing deep learning models|\n",
    "| Git                    | Version control system for tracking code changes and collaboration  |\n",
    "| Docker                 | Platform for containerized application development and deployment  |\n",
    "| Conda                  | Package manager for Python data science projects                    |\n",
    "\n",
    "Please note that this is not an exhaustive list, as the data science tools ecosystem is continuously evolving. Different data scientists may have their own preferred tools depending on their specific needs and tasks."
   ]
  },
  {
   "cell_type": "markdown",
   "id": "4dcd3390-7dab-41ba-8f43-c8394868973f",
   "metadata": {},
   "source": [
    "**Exercise 7 - Create a markdown cell introducing arithmetic expression examples.**"
   ]
  },
  {
   "cell_type": "markdown",
   "id": "21722597-4fee-48de-aed0-45e687fd205a",
   "metadata": {
    "tags": []
   },
   "source": [
    "#Arithmetic Expression Examples\n",
    "\n",
    "1 + 2 + 4 + 8 = 15\n"
   ]
  },
  {
   "cell_type": "markdown",
   "id": "b316cda2-27a5-43b8-930e-5cb129d1e239",
   "metadata": {},
   "source": [
    "**Exercise 8 - Create a code cell to multiply and add numbers.**"
   ]
  },
  {
   "cell_type": "code",
   "execution_count": 21,
   "id": "a32c69d1-716e-4f6a-8f9c-0e87775dd937",
   "metadata": {
    "tags": []
   },
   "outputs": [
    {
     "data": {
      "text/plain": [
       "15"
      ]
     },
     "execution_count": 21,
     "metadata": {},
     "output_type": "execute_result"
    }
   ],
   "source": [
    "1 + 2 + 4 + 8"
   ]
  },
  {
   "cell_type": "markdown",
   "id": "d3df4d8e-89e3-4fcd-a00b-7ab3085f57e2",
   "metadata": {
    "tags": []
   },
   "source": [
    "**Exercise 9 - Create a code cell to convert minutes to hours.**"
   ]
  },
  {
   "cell_type": "code",
   "execution_count": 26,
   "id": "f0ee8558-08d3-4fd2-9cb0-a957229e143c",
   "metadata": {
    "tags": []
   },
   "outputs": [
    {
     "name": "stdout",
     "output_type": "stream",
     "text": [
      "1 Years equal 525600 hours\n"
     ]
    }
   ],
   "source": [
    "print(\"1 Years equal\", (365 * 24 * 60), \"hours\")"
   ]
  },
  {
   "cell_type": "markdown",
   "id": "746b6b60-ba7e-4b79-b58c-66e4957c6c06",
   "metadata": {
    "tags": []
   },
   "source": [
    "**Exercise 10 -Insert a markdown cell to list Objectives.** "
   ]
  },
  {
   "cell_type": "markdown",
   "id": "887af6af-58e5-466a-9898-a33c69150262",
   "metadata": {},
   "source": [
    "Sure! Below is a markdown cell listing the objectives for using Python:\n",
    "\n",
    "**Objectives for Using Python**\n",
    "\n",
    "1. **Data Manipulation:** Python provides powerful libraries like Pandas and NumPy, making it easy to manipulate and analyze data efficiently.\n",
    "\n",
    "2. **Data Visualization:** With libraries like Matplotlib and Seaborn, Python allows users to create various types of visualizations for data exploration and communication.\n",
    "\n",
    "3. **Machine Learning:** Python offers extensive libraries such as Scikit-learn, TensorFlow, and PyTorch, enabling users to build and deploy machine learning models.\n",
    "And many more.\n",
    "\n",
    "Python's versatility, ease of learning, and its ability to address various tasks and domains make it a popular and valuable programming language for individuals and organizations alike."
   ]
  },
  {
   "cell_type": "markdown",
   "id": "947f4e46-fdc0-4f44-8903-7fa3abede199",
   "metadata": {
    "tags": []
   },
   "source": [
    "**Exercise 11 - Create a markdown cell to indicate the Author’s name.** "
   ]
  },
  {
   "cell_type": "markdown",
   "id": "a0cc2585-fddc-4c50-a95f-1889a89550ac",
   "metadata": {
    "tags": []
   },
   "source": [
    "**<h1>Author</h1>**\n",
    "\n",
    "Raihan Daffa Elian"
   ]
  }
 ],
 "metadata": {
  "kernelspec": {
   "display_name": "Python",
   "language": "python",
   "name": "conda-env-python-py"
  },
  "language_info": {
   "codemirror_mode": {
    "name": "ipython",
    "version": 3
   },
   "file_extension": ".py",
   "mimetype": "text/x-python",
   "name": "python",
   "nbconvert_exporter": "python",
   "pygments_lexer": "ipython3",
   "version": "3.7.12"
  }
 },
 "nbformat": 4,
 "nbformat_minor": 5
}
